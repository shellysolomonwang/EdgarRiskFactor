{
 "cells": [
  {
   "cell_type": "markdown",
   "metadata": {},
   "source": [
    "# Read 10-Q files"
   ]
  },
  {
   "cell_type": "code",
   "execution_count": 12,
   "metadata": {},
   "outputs": [],
   "source": [
    "import glob\n",
    "\n",
    "form_type = '10-q'\n",
    "sectors = ['Energy', 'Financial', 'Healthcare']\n",
    "docs = []\n",
    "for sector in sectors:\n",
    "    for folder in glob.glob(form_type+'_'+sector + '/*'):\n",
    "        for filename in glob.glob(folder+'/*.txt'):\n",
    "            with open(filename,'r') as f:\n",
    "                doc = f.read()\n",
    "                docs.append((filename, doc))"
   ]
  },
  {
   "cell_type": "code",
   "execution_count": 13,
   "metadata": {},
   "outputs": [],
   "source": [
    "import pandas as pd\n",
    "\n",
    "docs_df = pd.DataFrame(docs)\n",
    "docs_df.columns = ['path', 'content']"
   ]
  },
  {
   "cell_type": "code",
   "execution_count": 19,
   "metadata": {},
   "outputs": [],
   "source": [
    "docs_df['form_type'] = '10-q'"
   ]
  },
  {
   "cell_type": "markdown",
   "metadata": {},
   "source": [
    "# Read 10-K files"
   ]
  },
  {
   "cell_type": "code",
   "execution_count": 15,
   "metadata": {},
   "outputs": [],
   "source": [
    "#form_type = '10-k'\n",
    "sectors = ['Energy', 'Financial', 'Healthcare']\n",
    "docs = []\n",
    "for sector in sectors:\n",
    "    for folder in glob.glob(sector + '/*'):\n",
    "        for filename in glob.glob(folder+'/*.txt'):\n",
    "            with open(filename,'r') as f:\n",
    "                doc = f.read()\n",
    "                docs.append((filename, doc))"
   ]
  },
  {
   "cell_type": "code",
   "execution_count": 16,
   "metadata": {},
   "outputs": [],
   "source": [
    "docs_df_10K = pd.DataFrame(docs)\n",
    "docs_df_10K.columns = ['path', 'content']"
   ]
  },
  {
   "cell_type": "code",
   "execution_count": 18,
   "metadata": {},
   "outputs": [],
   "source": [
    "docs_df_10K['form_type'] = '10-k'"
   ]
  },
  {
   "cell_type": "code",
   "execution_count": 21,
   "metadata": {},
   "outputs": [
    {
     "data": {
      "text/html": [
       "<div>\n",
       "<style scoped>\n",
       "    .dataframe tbody tr th:only-of-type {\n",
       "        vertical-align: middle;\n",
       "    }\n",
       "\n",
       "    .dataframe tbody tr th {\n",
       "        vertical-align: top;\n",
       "    }\n",
       "\n",
       "    .dataframe thead th {\n",
       "        text-align: right;\n",
       "    }\n",
       "</style>\n",
       "<table border=\"1\" class=\"dataframe\">\n",
       "  <thead>\n",
       "    <tr style=\"text-align: right;\">\n",
       "      <th></th>\n",
       "      <th>path</th>\n",
       "      <th>content</th>\n",
       "      <th>form_type</th>\n",
       "    </tr>\n",
       "  </thead>\n",
       "  <tbody>\n",
       "    <tr>\n",
       "      <th>0</th>\n",
       "      <td>Energy/KMI/20150223.txt</td>\n",
       "      <td>Item 1A. Risk Factors. You should carefully co...</td>\n",
       "      <td>10-k</td>\n",
       "    </tr>\n",
       "    <tr>\n",
       "      <th>1</th>\n",
       "      <td>Energy/KMI/20140224.txt</td>\n",
       "      <td>Item 1A. Risk Factors. You should carefully co...</td>\n",
       "      <td>10-k</td>\n",
       "    </tr>\n",
       "    <tr>\n",
       "      <th>2</th>\n",
       "      <td>Energy/KMI/20130301.txt</td>\n",
       "      <td>Item 1A. Risk Factors. You should carefully co...</td>\n",
       "      <td>10-k</td>\n",
       "    </tr>\n",
       "    <tr>\n",
       "      <th>3</th>\n",
       "      <td>Energy/KMI/20110302.txt</td>\n",
       "      <td>Item 1A. Risk Factors.   You should carefully ...</td>\n",
       "      <td>10-k</td>\n",
       "    </tr>\n",
       "    <tr>\n",
       "      <th>4</th>\n",
       "      <td>Energy/KMI/20170210.txt</td>\n",
       "      <td>Item 1A. Risk Factors. You should carefully co...</td>\n",
       "      <td>10-k</td>\n",
       "    </tr>\n",
       "    <tr>\n",
       "      <th>...</th>\n",
       "      <td>...</td>\n",
       "      <td>...</td>\n",
       "      <td>...</td>\n",
       "    </tr>\n",
       "    <tr>\n",
       "      <th>1762</th>\n",
       "      <td>Healthcare/PKI/20160301.txt</td>\n",
       "      <td>Item 1A. Risk Factors” for an additional descr...</td>\n",
       "      <td>10-k</td>\n",
       "    </tr>\n",
       "    <tr>\n",
       "      <th>1763</th>\n",
       "      <td>Healthcare/PKI/20090226.txt</td>\n",
       "      <td>Item 1A. Risk Factors.”    Intellectual Proper...</td>\n",
       "      <td>10-k</td>\n",
       "    </tr>\n",
       "    <tr>\n",
       "      <th>1764</th>\n",
       "      <td>Healthcare/PKI/20190226.txt</td>\n",
       "      <td>Item 1A. Risk Factors” for an additional descr...</td>\n",
       "      <td>10-k</td>\n",
       "    </tr>\n",
       "    <tr>\n",
       "      <th>1765</th>\n",
       "      <td>Healthcare/PKI/20070301.txt</td>\n",
       "      <td>Item 1A. Risk Factors    The following importa...</td>\n",
       "      <td>10-k</td>\n",
       "    </tr>\n",
       "    <tr>\n",
       "      <th>1766</th>\n",
       "      <td>Healthcare/PKI/20180227.txt</td>\n",
       "      <td>Item 1A. Risk Factors” for an additional descr...</td>\n",
       "      <td>10-k</td>\n",
       "    </tr>\n",
       "  </tbody>\n",
       "</table>\n",
       "<p>1767 rows × 3 columns</p>\n",
       "</div>"
      ],
      "text/plain": [
       "                             path  \\\n",
       "0         Energy/KMI/20150223.txt   \n",
       "1         Energy/KMI/20140224.txt   \n",
       "2         Energy/KMI/20130301.txt   \n",
       "3         Energy/KMI/20110302.txt   \n",
       "4         Energy/KMI/20170210.txt   \n",
       "...                           ...   \n",
       "1762  Healthcare/PKI/20160301.txt   \n",
       "1763  Healthcare/PKI/20090226.txt   \n",
       "1764  Healthcare/PKI/20190226.txt   \n",
       "1765  Healthcare/PKI/20070301.txt   \n",
       "1766  Healthcare/PKI/20180227.txt   \n",
       "\n",
       "                                                content form_type  \n",
       "0     Item 1A. Risk Factors. You should carefully co...      10-k  \n",
       "1     Item 1A. Risk Factors. You should carefully co...      10-k  \n",
       "2     Item 1A. Risk Factors. You should carefully co...      10-k  \n",
       "3     Item 1A. Risk Factors.   You should carefully ...      10-k  \n",
       "4     Item 1A. Risk Factors. You should carefully co...      10-k  \n",
       "...                                                 ...       ...  \n",
       "1762  Item 1A. Risk Factors” for an additional descr...      10-k  \n",
       "1763  Item 1A. Risk Factors.”    Intellectual Proper...      10-k  \n",
       "1764  Item 1A. Risk Factors” for an additional descr...      10-k  \n",
       "1765  Item 1A. Risk Factors    The following importa...      10-k  \n",
       "1766  Item 1A. Risk Factors” for an additional descr...      10-k  \n",
       "\n",
       "[1767 rows x 3 columns]"
      ]
     },
     "execution_count": 21,
     "metadata": {},
     "output_type": "execute_result"
    }
   ],
   "source": [
    "docs_df_10K"
   ]
  },
  {
   "cell_type": "markdown",
   "metadata": {},
   "source": [
    "# Data Processing"
   ]
  },
  {
   "cell_type": "code",
   "execution_count": 37,
   "metadata": {},
   "outputs": [],
   "source": [
    "df_10X = pd.concat([docs_df, docs_df_10K], ignore_index=True)"
   ]
  },
  {
   "cell_type": "code",
   "execution_count": 38,
   "metadata": {},
   "outputs": [],
   "source": [
    "# split the path for further use\n",
    "df_10X['split'] = df_10X.path.str.split('/')"
   ]
  },
  {
   "cell_type": "code",
   "execution_count": 42,
   "metadata": {},
   "outputs": [],
   "source": [
    "# extract sector from path\n",
    "df_10X['sector'] = df_10X['split'].apply(lambda x: x[0])"
   ]
  },
  {
   "cell_type": "code",
   "execution_count": 43,
   "metadata": {},
   "outputs": [],
   "source": [
    "# extract company ticker from path\n",
    "df_10X['company'] = df_10X['split'].apply(lambda x: x[1])"
   ]
  },
  {
   "cell_type": "code",
   "execution_count": 46,
   "metadata": {},
   "outputs": [],
   "source": [
    "# extract date from path\n",
    "df_10X['date'] = df_10X['split'].apply(lambda x: x[-1][:-4])"
   ]
  },
  {
   "cell_type": "code",
   "execution_count": 51,
   "metadata": {},
   "outputs": [],
   "source": [
    "# clean sector\n",
    "df_10X.sector = df_10X.sector.str.split('_').apply(lambda x: x[-1])"
   ]
  },
  {
   "cell_type": "code",
   "execution_count": 54,
   "metadata": {},
   "outputs": [],
   "source": [
    "del df_10X['split']"
   ]
  },
  {
   "cell_type": "code",
   "execution_count": 57,
   "metadata": {},
   "outputs": [],
   "source": [
    "df_10X.date = pd.to_datetime(df_10X.date)"
   ]
  },
  {
   "cell_type": "code",
   "execution_count": 72,
   "metadata": {},
   "outputs": [],
   "source": [
    "df_10X = df_10X.sort_values(['sector','company', 'date']).reset_index()"
   ]
  },
  {
   "cell_type": "code",
   "execution_count": 75,
   "metadata": {},
   "outputs": [],
   "source": [
    "del df_10X['index']"
   ]
  },
  {
   "cell_type": "markdown",
   "metadata": {},
   "source": [
    "# Save as Excel file"
   ]
  },
  {
   "cell_type": "code",
   "execution_count": 106,
   "metadata": {},
   "outputs": [],
   "source": [
    "df_10X.to_excel('./risk_factor_10X.xlsx')"
   ]
  },
  {
   "cell_type": "markdown",
   "metadata": {},
   "source": [
    "# calculate content length to decide the cut-off point for repetitive contents, such as:\n"
   ]
  },
  {
   "cell_type": "code",
   "execution_count": 119,
   "metadata": {},
   "outputs": [
    {
     "data": {
      "text/plain": [
       "'ITEM 1A. RISK FACTORS  During the quarter ending March 31, 2008, there were no material changes from the risk factors as previously disclosed in the Company’s Annual Report on Form 10-K for the year ended December 31, 2007.    ITEM 2. UNREGISTERED SALES OF EQUITY SECURITIES AND USE OF PROCEEDS'"
      ]
     },
     "execution_count": 119,
     "metadata": {},
     "output_type": "execute_result"
    }
   ],
   "source": [
    "df_10X.content[3]"
   ]
  },
  {
   "cell_type": "code",
   "execution_count": 81,
   "metadata": {},
   "outputs": [],
   "source": [
    "df_10X['content_length'] = df_10X.content.apply(len)"
   ]
  },
  {
   "cell_type": "code",
   "execution_count": 89,
   "metadata": {},
   "outputs": [
    {
     "data": {
      "text/html": [
       "<div>\n",
       "<style scoped>\n",
       "    .dataframe tbody tr th:only-of-type {\n",
       "        vertical-align: middle;\n",
       "    }\n",
       "\n",
       "    .dataframe tbody tr th {\n",
       "        vertical-align: top;\n",
       "    }\n",
       "\n",
       "    .dataframe thead th {\n",
       "        text-align: right;\n",
       "    }\n",
       "</style>\n",
       "<table border=\"1\" class=\"dataframe\">\n",
       "  <thead>\n",
       "    <tr style=\"text-align: right;\">\n",
       "      <th></th>\n",
       "      <th>path</th>\n",
       "      <th>content</th>\n",
       "      <th>form_type</th>\n",
       "      <th>sector</th>\n",
       "      <th>company</th>\n",
       "      <th>date</th>\n",
       "      <th>content_length</th>\n",
       "    </tr>\n",
       "  </thead>\n",
       "  <tbody>\n",
       "    <tr>\n",
       "      <th>3</th>\n",
       "      <td>10-q_Energy/APA/20080512.txt</td>\n",
       "      <td>ITEM 1A. RISK FACTORS  During the quarter endi...</td>\n",
       "      <td>10-q</td>\n",
       "      <td>Energy</td>\n",
       "      <td>APA</td>\n",
       "      <td>2008-05-12</td>\n",
       "      <td>294</td>\n",
       "    </tr>\n",
       "    <tr>\n",
       "      <th>4</th>\n",
       "      <td>10-q_Energy/APA/20080811.txt</td>\n",
       "      <td>ITEM 1A. RISK FACTORS  During the quarter endi...</td>\n",
       "      <td>10-q</td>\n",
       "      <td>Energy</td>\n",
       "      <td>APA</td>\n",
       "      <td>2008-08-11</td>\n",
       "      <td>293</td>\n",
       "    </tr>\n",
       "    <tr>\n",
       "      <th>5</th>\n",
       "      <td>10-q_Energy/APA/20081110.txt</td>\n",
       "      <td>ITEM 1A. RISK FACTORS  During the quarter endi...</td>\n",
       "      <td>10-q</td>\n",
       "      <td>Energy</td>\n",
       "      <td>APA</td>\n",
       "      <td>2008-11-10</td>\n",
       "      <td>298</td>\n",
       "    </tr>\n",
       "    <tr>\n",
       "      <th>7</th>\n",
       "      <td>10-q_Energy/APA/20090508.txt</td>\n",
       "      <td>ITEM 1A.    RISK FACTORS               During ...</td>\n",
       "      <td>10-q</td>\n",
       "      <td>Energy</td>\n",
       "      <td>APA</td>\n",
       "      <td>2009-05-08</td>\n",
       "      <td>328</td>\n",
       "    </tr>\n",
       "    <tr>\n",
       "      <th>15</th>\n",
       "      <td>10-q_Energy/APA/20110509.txt</td>\n",
       "      <td>ITEM 1A.   RISK FACTORS           During the q...</td>\n",
       "      <td>10-q</td>\n",
       "      <td>Energy</td>\n",
       "      <td>APA</td>\n",
       "      <td>2011-05-09</td>\n",
       "      <td>327</td>\n",
       "    </tr>\n",
       "    <tr>\n",
       "      <th>...</th>\n",
       "      <td>...</td>\n",
       "      <td>...</td>\n",
       "      <td>...</td>\n",
       "      <td>...</td>\n",
       "      <td>...</td>\n",
       "      <td>...</td>\n",
       "      <td>...</td>\n",
       "    </tr>\n",
       "    <tr>\n",
       "      <th>5616</th>\n",
       "      <td>10-q_Healthcare/XRAY/20170510.txt</td>\n",
       "      <td>Item 1ARisk Factors45   Item 2Unregistered Sal...</td>\n",
       "      <td>10-q</td>\n",
       "      <td>Healthcare</td>\n",
       "      <td>XRAY</td>\n",
       "      <td>2017-05-10</td>\n",
       "      <td>82</td>\n",
       "    </tr>\n",
       "    <tr>\n",
       "      <th>5617</th>\n",
       "      <td>10-q_Healthcare/XRAY/20170809.txt</td>\n",
       "      <td>Item 1ARisk Factors58   Item 2Unregistered Sal...</td>\n",
       "      <td>10-q</td>\n",
       "      <td>Healthcare</td>\n",
       "      <td>XRAY</td>\n",
       "      <td>2017-08-09</td>\n",
       "      <td>82</td>\n",
       "    </tr>\n",
       "    <tr>\n",
       "      <th>5618</th>\n",
       "      <td>10-q_Healthcare/XRAY/20171109.txt</td>\n",
       "      <td>Item 1ARisk Factors59   Item 2Unregistered Sal...</td>\n",
       "      <td>10-q</td>\n",
       "      <td>Healthcare</td>\n",
       "      <td>XRAY</td>\n",
       "      <td>2017-11-09</td>\n",
       "      <td>82</td>\n",
       "    </tr>\n",
       "    <tr>\n",
       "      <th>5620</th>\n",
       "      <td>10-q_Healthcare/XRAY/20180507.txt</td>\n",
       "      <td>Item 1ARisk Factors50   Item 2Unregistered Sal...</td>\n",
       "      <td>10-q</td>\n",
       "      <td>Healthcare</td>\n",
       "      <td>XRAY</td>\n",
       "      <td>2018-05-07</td>\n",
       "      <td>82</td>\n",
       "    </tr>\n",
       "    <tr>\n",
       "      <th>5621</th>\n",
       "      <td>10-q_Healthcare/XRAY/20180807.txt</td>\n",
       "      <td>Item 1ARisk Factors69   Item 2Unregistered Sal...</td>\n",
       "      <td>10-q</td>\n",
       "      <td>Healthcare</td>\n",
       "      <td>XRAY</td>\n",
       "      <td>2018-08-07</td>\n",
       "      <td>82</td>\n",
       "    </tr>\n",
       "  </tbody>\n",
       "</table>\n",
       "<p>1291 rows × 7 columns</p>\n",
       "</div>"
      ],
      "text/plain": [
       "                                   path  \\\n",
       "3          10-q_Energy/APA/20080512.txt   \n",
       "4          10-q_Energy/APA/20080811.txt   \n",
       "5          10-q_Energy/APA/20081110.txt   \n",
       "7          10-q_Energy/APA/20090508.txt   \n",
       "15         10-q_Energy/APA/20110509.txt   \n",
       "...                                 ...   \n",
       "5616  10-q_Healthcare/XRAY/20170510.txt   \n",
       "5617  10-q_Healthcare/XRAY/20170809.txt   \n",
       "5618  10-q_Healthcare/XRAY/20171109.txt   \n",
       "5620  10-q_Healthcare/XRAY/20180507.txt   \n",
       "5621  10-q_Healthcare/XRAY/20180807.txt   \n",
       "\n",
       "                                                content form_type      sector  \\\n",
       "3     ITEM 1A. RISK FACTORS  During the quarter endi...      10-q      Energy   \n",
       "4     ITEM 1A. RISK FACTORS  During the quarter endi...      10-q      Energy   \n",
       "5     ITEM 1A. RISK FACTORS  During the quarter endi...      10-q      Energy   \n",
       "7     ITEM 1A.    RISK FACTORS               During ...      10-q      Energy   \n",
       "15    ITEM 1A.   RISK FACTORS           During the q...      10-q      Energy   \n",
       "...                                                 ...       ...         ...   \n",
       "5616  Item 1ARisk Factors45   Item 2Unregistered Sal...      10-q  Healthcare   \n",
       "5617  Item 1ARisk Factors58   Item 2Unregistered Sal...      10-q  Healthcare   \n",
       "5618  Item 1ARisk Factors59   Item 2Unregistered Sal...      10-q  Healthcare   \n",
       "5620  Item 1ARisk Factors50   Item 2Unregistered Sal...      10-q  Healthcare   \n",
       "5621  Item 1ARisk Factors69   Item 2Unregistered Sal...      10-q  Healthcare   \n",
       "\n",
       "     company       date  content_length  \n",
       "3        APA 2008-05-12             294  \n",
       "4        APA 2008-08-11             293  \n",
       "5        APA 2008-11-10             298  \n",
       "7        APA 2009-05-08             328  \n",
       "15       APA 2011-05-09             327  \n",
       "...      ...        ...             ...  \n",
       "5616    XRAY 2017-05-10              82  \n",
       "5617    XRAY 2017-08-09              82  \n",
       "5618    XRAY 2017-11-09              82  \n",
       "5620    XRAY 2018-05-07              82  \n",
       "5621    XRAY 2018-08-07              82  \n",
       "\n",
       "[1291 rows x 7 columns]"
      ]
     },
     "execution_count": 89,
     "metadata": {},
     "output_type": "execute_result"
    }
   ],
   "source": [
    "df_10X[df_10X['content_length'] <= 500]"
   ]
  },
  {
   "cell_type": "code",
   "execution_count": 102,
   "metadata": {},
   "outputs": [
    {
     "data": {
      "text/plain": [
       "count      3855.000000\n",
       "mean      50495.105318\n",
       "std      117990.209390\n",
       "min          70.000000\n",
       "25%         304.000000\n",
       "50%        1723.000000\n",
       "75%       49916.500000\n",
       "max      988831.000000\n",
       "Name: content_length, dtype: float64"
      ]
     },
     "execution_count": 102,
     "metadata": {},
     "output_type": "execute_result"
    }
   ],
   "source": [
    "df_10X[df_10X.form_type == '10-q'].content_length.describe()"
   ]
  },
  {
   "cell_type": "code",
   "execution_count": 105,
   "metadata": {},
   "outputs": [
    {
     "data": {
      "text/plain": [
       "<matplotlib.axes._subplots.AxesSubplot at 0x7ffbc6fc6c90>"
      ]
     },
     "execution_count": 105,
     "metadata": {},
     "output_type": "execute_result"
    },
    {
     "data": {
      "image/png": "[encoded data removed]",
      "text/plain": [
       "<Figure size 432x288 with 1 Axes>"
      ]
     },
     "metadata": {
      "needs_background": "light"
     },
     "output_type": "display_data"
    }
   ],
   "source": [
    "df_10X[df_10X.form_type == '10-q'].content_length.hist(bins=50)"
   ]
  },
  {
   "cell_type": "code",
   "execution_count": 116,
   "metadata": {},
   "outputs": [
    {
     "data": {
      "text/plain": [
       "<matplotlib.axes._subplots.AxesSubplot at 0x7ffbd29ee8d0>"
      ]
     },
     "execution_count": 116,
     "metadata": {},
     "output_type": "execute_result"
    },
    {
     "data": {
      "image/png": "[encoded data removed]",
      "text/plain": [
       "<Figure size 432x288 with 1 Axes>"
      ]
     },
     "metadata": {
      "needs_background": "light"
     },
     "output_type": "display_data"
    }
   ],
   "source": [
    "df_10X[ df_10X.content_length <= 1723].content_length.hist(bins=50)"
   ]
  },
  {
   "cell_type": "code",
   "execution_count": 117,
   "metadata": {},
   "outputs": [
    {
     "data": {
      "text/plain": [
       "<matplotlib.axes._subplots.AxesSubplot at 0x7ffbc9a66710>"
      ]
     },
     "execution_count": 117,
     "metadata": {},
     "output_type": "execute_result"
    },
    {
     "data": {
      "image/png": "[encoded data removed]",
      "text/plain": [
       "<Figure size 432x288 with 1 Axes>"
      ]
     },
     "metadata": {
      "needs_background": "light"
     },
     "output_type": "display_data"
    }
   ],
   "source": [
    "df_10X[ df_10X.content_length <= 1250].content_length.hist(bins=50)"
   ]
  },
  {
   "cell_type": "code",
   "execution_count": 142,
   "metadata": {},
   "outputs": [
    {
     "data": {
      "text/plain": [
       "'ITEM 1A. RISK FACTORS  In addition to the information set forth below and other information contained in this report, you should carefully consider the factors discussed in “Part II, Item 1A. Risk Factors” in our June 30, 2009 Quarterly Report filed on Form 10-Q and “Part I, Item 1A. Risk Factors” in our 2008 Annual Report filed on Form 10-K, which could materially affect our business, financial condition or future results.  Heightened regulatory enforcement may adversely affect our ability to market and sell our products.  Heightened regulatory enforcement arising from changes in the political and regulatory environment as well as economic pressures may adversely affect our ability to obtain regulatory approval for our products and to maintain for sale products previously approved. The FDA’s enhanced reporting requirements and ability to analyze reported data may result in more frequent field actions which may include communications to physicians and patients, recall of product from the field and repair or replacement of devices. One or more of these field actions could have a material impact on our net sales, cash flow and reputation in the marketplace.  73    Table of Contents     ITEM 6. EXHIBITS'"
      ]
     },
     "execution_count": 142,
     "metadata": {},
     "output_type": "execute_result"
    }
   ],
   "source": [
    "df_10X[ df_10X.content_length <= 1220].sort_values('content_length').content.tolist()[-1]"
   ]
  },
  {
   "cell_type": "code",
   "execution_count": null,
   "metadata": {},
   "outputs": [],
   "source": [
    "'There [(have)|(has)] been no material'\n",
    "'no material'"
   ]
  },
  {
   "cell_type": "code",
   "execution_count": 103,
   "metadata": {},
   "outputs": [
    {
     "data": {
      "text/plain": [
       "count      1767.000000\n",
       "mean      65182.013016\n",
       "std       45038.990029\n",
       "min        4227.000000\n",
       "25%       33530.000000\n",
       "50%       54085.000000\n",
       "75%       83363.500000\n",
       "max      397581.000000\n",
       "Name: content_length, dtype: float64"
      ]
     },
     "execution_count": 103,
     "metadata": {},
     "output_type": "execute_result"
    }
   ],
   "source": [
    "df_10X[df_10X.form_type == '10-k'].content_length.describe()"
   ]
  },
  {
   "cell_type": "code",
   "execution_count": 108,
   "metadata": {},
   "outputs": [
    {
     "data": {
      "text/plain": [
       "<matplotlib.axes._subplots.AxesSubplot at 0x7ffbd2b13090>"
      ]
     },
     "execution_count": 108,
     "metadata": {},
     "output_type": "execute_result"
    },
    {
     "data": {
      "image/png": "[encoded data removed]",
      "text/plain": [
       "<Figure size 432x288 with 1 Axes>"
      ]
     },
     "metadata": {
      "needs_background": "light"
     },
     "output_type": "display_data"
    }
   ],
   "source": [
    "df_10X[df_10X.form_type == '10-k'].content_length.hist(bins=50)"
   ]
  },
  {
   "cell_type": "code",
   "execution_count": 144,
   "metadata": {},
   "outputs": [],
   "source": [
    "df_10X['no_material_change'] = df_10X.content.str.contains('no material')"
   ]
  },
  {
   "cell_type": "code",
   "execution_count": 150,
   "metadata": {},
   "outputs": [
    {
     "data": {
      "text/plain": [
       "count      5622\n",
       "unique        2\n",
       "top       False\n",
       "freq       3497\n",
       "Name: no_material_change, dtype: object"
      ]
     },
     "execution_count": 150,
     "metadata": {},
     "output_type": "execute_result"
    }
   ],
   "source": [
    "df_10X['no_material_change'].describe()"
   ]
  },
  {
   "cell_type": "code",
   "execution_count": 156,
   "metadata": {},
   "outputs": [
    {
     "data": {
      "text/html": [
       "<div>\n",
       "<style scoped>\n",
       "    .dataframe tbody tr th:only-of-type {\n",
       "        vertical-align: middle;\n",
       "    }\n",
       "\n",
       "    .dataframe tbody tr th {\n",
       "        vertical-align: top;\n",
       "    }\n",
       "\n",
       "    .dataframe thead th {\n",
       "        text-align: right;\n",
       "    }\n",
       "</style>\n",
       "<table border=\"1\" class=\"dataframe\">\n",
       "  <thead>\n",
       "    <tr style=\"text-align: right;\">\n",
       "      <th></th>\n",
       "      <th></th>\n",
       "      <th>path</th>\n",
       "      <th>content</th>\n",
       "      <th>sector</th>\n",
       "      <th>company</th>\n",
       "      <th>date</th>\n",
       "      <th>content_length</th>\n",
       "    </tr>\n",
       "    <tr>\n",
       "      <th>no_material_change</th>\n",
       "      <th>form_type</th>\n",
       "      <th></th>\n",
       "      <th></th>\n",
       "      <th></th>\n",
       "      <th></th>\n",
       "      <th></th>\n",
       "      <th></th>\n",
       "    </tr>\n",
       "  </thead>\n",
       "  <tbody>\n",
       "    <tr>\n",
       "      <th rowspan=\"2\" valign=\"top\">False</th>\n",
       "      <th>10-k</th>\n",
       "      <td>Energy/APA/20060314.txt</td>\n",
       "      <td>Certain Risks   The following risks and uncert...</td>\n",
       "      <td>Energy</td>\n",
       "      <td>A</td>\n",
       "      <td>2006-01-17</td>\n",
       "      <td>4227</td>\n",
       "    </tr>\n",
       "    <tr>\n",
       "      <th>10-q</th>\n",
       "      <td>10-q_Energy/APA/20100507.txt</td>\n",
       "      <td>ITEM   1A. RISK FACTORS  Reference is made to ...</td>\n",
       "      <td>Energy</td>\n",
       "      <td>A</td>\n",
       "      <td>2006-11-08</td>\n",
       "      <td>70</td>\n",
       "    </tr>\n",
       "    <tr>\n",
       "      <th rowspan=\"2\" valign=\"top\">True</th>\n",
       "      <th>10-k</th>\n",
       "      <td>Energy/DVN/20060303.txt</td>\n",
       "      <td>ITEM 1A.  Risk Factors We are subject to numer...</td>\n",
       "      <td>Energy</td>\n",
       "      <td>CFG</td>\n",
       "      <td>2006-03-03</td>\n",
       "      <td>14625</td>\n",
       "    </tr>\n",
       "    <tr>\n",
       "      <th>10-q</th>\n",
       "      <td>10-q_Energy/APA/20080512.txt</td>\n",
       "      <td>ITEM 1A.    RISK FACTORS               During ...</td>\n",
       "      <td>Energy</td>\n",
       "      <td>ABBV</td>\n",
       "      <td>2007-08-08</td>\n",
       "      <td>169</td>\n",
       "    </tr>\n",
       "  </tbody>\n",
       "</table>\n",
       "</div>"
      ],
      "text/plain": [
       "                                                      path  \\\n",
       "no_material_change form_type                                 \n",
       "False              10-k            Energy/APA/20060314.txt   \n",
       "                   10-q       10-q_Energy/APA/20100507.txt   \n",
       "True               10-k            Energy/DVN/20060303.txt   \n",
       "                   10-q       10-q_Energy/APA/20080512.txt   \n",
       "\n",
       "                                                                        content  \\\n",
       "no_material_change form_type                                                      \n",
       "False              10-k       Certain Risks   The following risks and uncert...   \n",
       "                   10-q       ITEM   1A. RISK FACTORS  Reference is made to ...   \n",
       "True               10-k       ITEM 1A.  Risk Factors We are subject to numer...   \n",
       "                   10-q       ITEM 1A.    RISK FACTORS               During ...   \n",
       "\n",
       "                              sector company       date  content_length  \n",
       "no_material_change form_type                                             \n",
       "False              10-k       Energy       A 2006-01-17            4227  \n",
       "                   10-q       Energy       A 2006-11-08              70  \n",
       "True               10-k       Energy     CFG 2006-03-03           14625  \n",
       "                   10-q       Energy    ABBV 2007-08-08             169  "
      ]
     },
     "execution_count": 156,
     "metadata": {},
     "output_type": "execute_result"
    }
   ],
   "source": [
    "df_10X.groupby(by = ['no_material_change', 'form_type']).min()"
   ]
  },
  {
   "cell_type": "code",
   "execution_count": null,
   "metadata": {},
   "outputs": [],
   "source": []
  }
 ],
 "metadata": {
  "kernelspec": {
   "display_name": "Python 3",
   "language": "python",
   "name": "python3"
  },
  "language_info": {
   "codemirror_mode": {
    "name": "ipython",
    "version": 3
   },
   "file_extension": ".py",
   "mimetype": "text/x-python",
   "name": "python",
   "nbconvert_exporter": "python",
   "pygments_lexer": "ipython3",
   "version": "3.7.6"
  }
 },
 "nbformat": 4,
 "nbformat_minor": 4
}
